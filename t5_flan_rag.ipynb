{
  "cells": [
    {
      "cell_type": "markdown",
      "metadata": {
        "id": "view-in-github",
        "colab_type": "text"
      },
      "source": [
        "<a href=\"https://colab.research.google.com/github/bjarkedc/RAG_FLAN_T5/blob/main/t5_flan_rag.ipynb\" target=\"_parent\"><img src=\"https://colab.research.google.com/assets/colab-badge.svg\" alt=\"Open In Colab\"/></a>"
      ]
    },
    {
      "cell_type": "code",
      "source": [
        "from google.colab import drive\n",
        "drive.mount('/content/drive')"
      ],
      "metadata": {
        "id": "DoNopsBYygiD"
      },
      "id": "DoNopsBYygiD",
      "execution_count": null,
      "outputs": []
    },
    {
      "cell_type": "code",
      "source": [
        "!pip install rank-bm25 nltk transformers sentencepiece"
      ],
      "metadata": {
        "id": "c5beGR5iU8Ve"
      },
      "id": "c5beGR5iU8Ve",
      "execution_count": null,
      "outputs": []
    },
    {
      "cell_type": "code",
      "source": [
        "import pandas as pd\n",
        "import re\n",
        "from rank_bm25 import BM25Okapi\n",
        "from nltk.tokenize import word_tokenize\n",
        "from nltk.corpus import stopwords\n",
        "from nltk.stem import PorterStemmer\n",
        "import nltk\n",
        "from transformers import T5ForConditionalGeneration, T5Tokenizer\n",
        "import string\n",
        "\n",
        "nltk.download('punkt')\n",
        "nltk.download('stopwords')"
      ],
      "metadata": {
        "id": "Srt9sdLntxUL"
      },
      "id": "Srt9sdLntxUL",
      "execution_count": null,
      "outputs": []
    },
    {
      "cell_type": "code",
      "source": [
        "def parse_docs(file_path):\n",
        "    with open(file_path, 'r', encoding='utf-8') as file:\n",
        "        file_content = file.read()\n",
        "\n",
        "    # Regular expression to match <doc> elements\n",
        "    doc_pattern = re.compile(r'<doc id=\"([^\"]+)\" url=\"([^\"]+)\" title=\"([^\"]+)\">(.*?)</doc>', re.DOTALL)\n",
        "\n",
        "    # Find all matches\n",
        "    matches = doc_pattern.findall(file_content)\n",
        "\n",
        "    # Extract data and create a list of dictionaries\n",
        "    docs = [{'id': match[0], 'url': match[1], 'title': match[2], 'text': match[3].strip()} for match in matches]\n",
        "    return docs\n",
        "\n",
        "# Create a DataFrame\n",
        "def create_dataframe(docs):\n",
        "    return pd.DataFrame(docs)\n",
        "\n",
        "def is_only_special_chars(word):\n",
        "    special_chars = set(string.punctuation)\n",
        "    # Check if each character in the word is a special character\n",
        "    return all(char in special_chars for char in word)\n",
        "\n",
        "# Preprocess text: tokenize and remove stopwords\n",
        "def preprocess(text):\n",
        "    # Define a set of special characters\n",
        "    special_chars = set(string.punctuation)\n",
        "\n",
        "    # Initialize the stemmer\n",
        "    stemmer = PorterStemmer()\n",
        "\n",
        "    # Load set of English stopwords\n",
        "    stop_words = set(stopwords.words('english'))\n",
        "\n",
        "    # Tokenize and convert to lowercase\n",
        "    tokens = word_tokenize(text.lower())\n",
        "\n",
        "    # Preprocess tokens\n",
        "    processed_tokens = []\n",
        "    for token in tokens:\n",
        "        if token not in stop_words and not all(char in special_chars for char in token):\n",
        "            stemmed_token = stemmer.stem(token)\n",
        "            processed_tokens.append(stemmed_token)\n",
        "\n",
        "    return processed_tokens\n",
        "\n",
        "file_path = 'drive/MyDrive/apps/data-anlp/starwarsfandomcom-removed-space-and.txt'  # Replace with the actual path to your file\n",
        "docs = parse_docs(file_path)\n",
        "df = create_dataframe(docs)\n",
        "df['tokenized_text'] = df['text'].apply(preprocess)\n",
        "df = df[df['title'] != df['text']]"
      ],
      "metadata": {
        "id": "hIxN0Ny80dv6"
      },
      "id": "hIxN0Ny80dv6",
      "execution_count": null,
      "outputs": []
    },
    {
      "cell_type": "code",
      "source": [
        "def preprocess(text):\n",
        "    # Define a set of special characters\n",
        "    special_chars = set(string.punctuation)\n",
        "\n",
        "    # Initialize the stemmer\n",
        "    stemmer = PorterStemmer()\n",
        "\n",
        "    # Load set of English stopwords\n",
        "    stop_words = set(stopwords.words('english'))\n",
        "\n",
        "    # Tokenize and convert to lowercase\n",
        "    tokens = word_tokenize(text.lower())\n",
        "\n",
        "    # Preprocess tokens\n",
        "    processed_tokens = []\n",
        "    for token in tokens:\n",
        "        if token not in stop_words and not all(char in special_chars for char in token):\n",
        "            stemmed_token = stemmer.stem(token)\n",
        "            processed_tokens.append(stemmed_token)\n",
        "\n",
        "    return processed_tokens\n"
      ],
      "metadata": {
        "id": "SpspajYcmi0s"
      },
      "id": "SpspajYcmi0s",
      "execution_count": 76,
      "outputs": []
    },
    {
      "cell_type": "code",
      "source": [
        "#df = pd.read_csv('drive/MyDrive/apps/data-anlp/starwarsfandomcom.csv')\n",
        "#df = df[df['title'] != df['text']]\n",
        "#df['tokenized_text'] = df['text'].apply(preprocess)\n",
        "model = T5ForConditionalGeneration.from_pretrained('google/flan-t5-base')\n",
        "tokenizer = T5Tokenizer.from_pretrained('google/flan-t5-base')\n",
        "#tokenized_corpus = df['tokenized_text'].tolist()"
      ],
      "metadata": {
        "id": "tm9A73OxtTgn",
        "outputId": "59be8327-71a5-4d83-cf13-a140f16c1726",
        "colab": {
          "base_uri": "https://localhost:8080/"
        }
      },
      "id": "tm9A73OxtTgn",
      "execution_count": 29,
      "outputs": [
        {
          "output_type": "stream",
          "name": "stderr",
          "text": [
            "Special tokens have been added in the vocabulary, make sure the associated word embeddings are fine-tuned or trained.\n"
          ]
        }
      ]
    },
    {
      "cell_type": "code",
      "source": [
        "## dev set\n",
        "\n",
        "dev_set_path = '/content/drive/MyDrive/data-anlp/star_wars_dataset_dev/'\n",
        "\n",
        "# Function to read a file and return a list of lines\n",
        "def read_file_to_list(file_path):\n",
        "    with open(file_path, 'r') as file:\n",
        "        return [line.strip() for line in file]\n",
        "\n",
        "# Load the data\n",
        "dev_questions = read_file_to_list(dev_set_path + 'questions.txt')\n",
        "dev_answers = read_file_to_list(dev_set_path + 'answers.txt')"
      ],
      "metadata": {
        "id": "juVCtGgclAJQ"
      },
      "id": "juVCtGgclAJQ",
      "execution_count": 14,
      "outputs": []
    },
    {
      "cell_type": "code",
      "source": [
        "def robs_eval(gold, pred):\n",
        "    \"\"\"\n",
        "    An answer is considered correct if at least half of the gold\n",
        "    tokens are in the prediction. Note that this is a shortcut,\n",
        "    and will favor long answers.\n",
        "    \"\"\"\n",
        "    gold = set(gold.strip().lower().replace('.', '').split(' '))\n",
        "    pred = set(pred.strip().lower().replace('.', '').split(' '))\n",
        "    return len(gold.intersection(pred)) >= len(gold)/2"
      ],
      "metadata": {
        "id": "4DRyD2KpGfhT"
      },
      "id": "4DRyD2KpGfhT",
      "execution_count": 30,
      "outputs": []
    },
    {
      "cell_type": "code",
      "source": [
        "def query_bm25(query, num_results=10):\n",
        "    query_tokens = preprocess(query)\n",
        "    print(query_tokens)\n",
        "    doc_scores = bm25.get_scores(query_tokens)\n",
        "    top_doc_indices = sorted(range(len(doc_scores)), key=lambda i: doc_scores[i], reverse=True)[:num_results]\n",
        "    return df.iloc[top_doc_indices]['text'].str.cat(sep=' ')\n",
        "\n",
        "def generate_response(query, context):\n",
        "    # Concatenate the query and context\n",
        "    input_text = f'Answer this question: \"{query}\". Based off the following context: \"{context}\".'\n",
        "\n",
        "    # Tokenize the input text\n",
        "    input_ids = tokenizer.encode(input_text, return_tensors='pt')\n",
        "\n",
        "    # Truncate the input to the model's max length if necessary\n",
        "    max_length = tokenizer.model_max_length\n",
        "    if input_ids.size(1) > max_length:\n",
        "        input_ids = input_ids[:, :max_length]\n",
        "\n",
        "    truncated_input_text = tokenizer.decode(input_ids[0], skip_special_tokens=True)\n",
        "    output_ids = model.generate(input_ids)[0]\n",
        "    response = tokenizer.decode(output_ids, skip_special_tokens=True)\n",
        "    return response, context, truncated_input_text"
      ],
      "metadata": {
        "id": "J8QvNaZgYYK_"
      },
      "id": "J8QvNaZgYYK_",
      "execution_count": 77,
      "outputs": []
    },
    {
      "cell_type": "code",
      "source": [
        "### grid search\n",
        "\n",
        "from sklearn.model_selection import ParameterGrid\n",
        "import numpy as np\n",
        "from tqdm import tqdm\n",
        "\n",
        "max_pairs = len(dev_questions)\n",
        "#max_pairs = 10\n",
        "\n",
        "param_grid = {\n",
        "    'k1': np.linspace(0.75, 1.75, num=3),\n",
        "    'b': np.linspace(0.3, 0.7, num=3)\n",
        "}\n",
        "grid = ParameterGrid(param_grid)\n",
        "best_score = -1\n",
        "best_params = None\n",
        "results = {}  # Dictionary to store results\n",
        "\n",
        "for params in tqdm(grid, desc=\"Grid Search\"):\n",
        "    print(f\"\\n{params}\")\n",
        "    bm25 = BM25Okapi(corpus=df['tokenized_text'].tolist(), k1=params['k1'], b=params['b'])\n",
        "    total_correct = 0\n",
        "\n",
        "    for query, answer in tqdm(zip(dev_questions[:max_pairs], dev_answers[:max_pairs]), total=len(dev_questions[:max_pairs]), desc=\"Evaluating Queries\"):\n",
        "        context = query_bm25(query, 15)\n",
        "        response, context, truncated_input_text = generate_response(query, context)\n",
        "        print(f\"\"\"\n",
        "{query}\n",
        "{response}\n",
        "{answer}\n",
        "----------------------------------------------\"\"\")\n",
        "\n",
        "        if robs_eval(answer, response):\n",
        "            total_correct += 1\n",
        "            print(\"total = \" + str(total_correct))\n",
        "\n",
        "    # Save the results\n",
        "    results[str(params)] = total_correct\n",
        "\n",
        "    # Assess the effectiveness of the parameters\n",
        "    print(f\"Total Correct: {total_correct}\")\n",
        "    if total_correct > best_score:\n",
        "        best_score = total_correct\n",
        "        best_params = params\n",
        "\n",
        "print(f\"Best Params: {best_params}, Best Score: {best_score}\")\n",
        "# Print the results dictionary\n",
        "print(\"\\nAll Results:\")\n",
        "for param, score in results.items():\n",
        "    print(f\"{param}: {score}\")\n"
      ],
      "metadata": {
        "colab": {
          "base_uri": "https://localhost:8080/"
        },
        "id": "klhfOk5CiiKZ",
        "outputId": "691545dd-4f60-4c73-a387-fd3be85816b5"
      },
      "id": "klhfOk5CiiKZ",
      "execution_count": null,
      "outputs": [
        {
          "output_type": "stream",
          "name": "stderr",
          "text": [
            "\rGrid Search:   0%|          | 0/9 [00:00<?, ?it/s]"
          ]
        },
        {
          "output_type": "stream",
          "name": "stdout",
          "text": [
            "\n",
            "{'b': 0.3, 'k1': 0.75}\n"
          ]
        },
        {
          "output_type": "stream",
          "name": "stderr",
          "text": [
            "\n",
            "Evaluating Queries:   0%|          | 0/154 [00:00<?, ?it/s]\u001b[A"
          ]
        },
        {
          "output_type": "stream",
          "name": "stdout",
          "text": [
            "['true', 'fals', 'r2-d2', 'origin', 'dialogu', 'actual', 'speak', 'part']\n"
          ]
        },
        {
          "output_type": "stream",
          "name": "stderr",
          "text": [
            "\n",
            "Evaluating Queries:   1%|          | 1/154 [00:03<09:05,  3.56s/it]\u001b[A"
          ]
        },
        {
          "output_type": "stream",
          "name": "stdout",
          "text": [
            "\n",
            "True or false: R2-D2 originally had dialogue, with actual speaking parts\n",
            "True\n",
            "True\n",
            "----------------------------------------------\n",
            "total = 1\n",
            "['variat', 'line', 'made', 'everi', 'film', 'saga']\n"
          ]
        },
        {
          "output_type": "stream",
          "name": "stderr",
          "text": [
            "\n",
            "Evaluating Queries:   1%|▏         | 2/154 [00:07<08:58,  3.54s/it]\u001b[A"
          ]
        },
        {
          "output_type": "stream",
          "name": "stdout",
          "text": [
            "\n",
            "Variations on what line have made it into every film in the saga?\n",
            "Star Wars Saga\n",
            "\"I have a bad feeling about this.\"\n",
            "----------------------------------------------\n",
            "['type', 'dog', 'inspir', 'chewbacca', 'accord', 'georg', 'luca']\n"
          ]
        },
        {
          "output_type": "stream",
          "name": "stderr",
          "text": [
            "\n",
            "Evaluating Queries:   2%|▏         | 3/154 [00:11<09:41,  3.85s/it]\u001b[A"
          ]
        },
        {
          "output_type": "stream",
          "name": "stdout",
          "text": [
            "\n",
            "What type of dog was the inspiration for Chewbacca, according to George Lucas?\n",
            "a toy soldier\n",
            "An Alaskan Malamute\n",
            "----------------------------------------------\n",
            "['first', 'appear', 'emperor', 'composit', 'charact', 'design', \"'s\", 'wife', 'anim']\n"
          ]
        },
        {
          "output_type": "stream",
          "name": "stderr",
          "text": [
            "\n",
            "Evaluating Queries:   3%|▎         | 4/154 [00:15<10:19,  4.13s/it]\u001b[A"
          ]
        },
        {
          "output_type": "stream",
          "name": "stdout",
          "text": [
            "\n",
            "The first appearance of the Emperor was a composite of the character designer's wife and which animal?\n",
            "a human\n",
            "A chimpanzee\n",
            "----------------------------------------------\n",
            "total = 2\n",
            "['mani', 'estim', 'death', 'origin', 'trilog']\n"
          ]
        },
        {
          "output_type": "stream",
          "name": "stderr",
          "text": [
            "\n",
            "Evaluating Queries:   3%|▎         | 5/154 [00:18<09:14,  3.72s/it]\u001b[A"
          ]
        },
        {
          "output_type": "stream",
          "name": "stdout",
          "text": [
            "\n",
            "How many estimated deaths are there in the original trilogy?\n",
            "0\n",
            "Approximately 2,002,795,192\n",
            "----------------------------------------------\n",
            "['episod', 'number', 'first', 'star', 'war', 'film']\n"
          ]
        },
        {
          "output_type": "stream",
          "name": "stderr",
          "text": [
            "\n",
            "Evaluating Queries:   4%|▍         | 6/154 [00:22<08:46,  3.56s/it]\u001b[A"
          ]
        },
        {
          "output_type": "stream",
          "name": "stdout",
          "text": [
            "\n",
            "Which episode number is the first Star Wars film?\n",
            "I\n",
            "IV\n",
            "----------------------------------------------\n",
            "['han', 'solo', 'frozen']\n"
          ]
        }
      ]
    },
    {
      "cell_type": "code",
      "source": [
        "test_set_path = '/content/drive/MyDrive/data-anlp/star_wars_dataset_test/'\n",
        "test_questions = read_file_to_list(test_set_path + 'questions.txt')\n",
        "test_answers = read_file_to_list(test_set_path + 'answers.txt')\n",
        "\n",
        "bm25 = BM25Okapi(corpus=df['tokenized_text'].tolist())\n",
        "\n",
        "total_correct = 0\n",
        "\n",
        "for query, answer in zip(test_questions[:5], test_answers[:5]):\n",
        "    context = query_bm25(query, 15)\n",
        "\n",
        "    # Generate response\n",
        "    response, context, truncated_input_text = generate_response(query, context)\n",
        "    print(f\"\"\"\n",
        "{truncated_input_text}\n",
        "{response}\n",
        "{answer}\n",
        "----------------------------------------------\"\"\")\n",
        "    if robs_eval(answer, response):\n",
        "        total_correct += 1\n",
        "        print(\"total = \" + str(total_correct))\n",
        "\n",
        "print(f\"Total correct answers: {total_correct}/{len(test_answers)}\")\n"
      ],
      "metadata": {
        "colab": {
          "base_uri": "https://localhost:8080/"
        },
        "id": "iOXrsnJDbYKS",
        "outputId": "da98162b-4005-4fe5-b22c-a6e801fdc772"
      },
      "id": "iOXrsnJDbYKS",
      "execution_count": 78,
      "outputs": [
        {
          "output_type": "stream",
          "name": "stdout",
          "text": [
            "[\"'may\", 'fourth', 'offici', 'taglin', 'galaxy-wid', 'holiday', 'celebr', 'first', 'week', 'may', 'honor', 'sci-fi', 'franchis']\n"
          ]
        },
        {
          "output_type": "stream",
          "name": "stderr",
          "text": [
            "/usr/local/lib/python3.10/dist-packages/transformers/generation/utils.py:1273: UserWarning: Using the model-agnostic default `max_length` (=20) to control the generation length. We recommend setting `max_new_tokens` to control the maximum length of the generation.\n",
            "  warnings.warn(\n"
          ]
        },
        {
          "output_type": "stream",
          "name": "stdout",
          "text": [
            "\n",
            "Answer this question: \"'May the Fourth be with you' is the official tagline of the galaxy-wide holiday celebrated the first week of May in honor of what sci-fi franchise?\". Based off the following context: \"Empire Day This page is about the Imperial holiday. You may be looking for the \"Star Wars Rebels\" episode of the same name. Empire Day was the day that Sheev Palpatine declared himself Emperor of the First Galactic Empire, bringing an end to the Republic. It was also the day Ezra Bridger was born, and two days before the births of Luke and Leia Skywalker on Polis Massa.[] From the following year on, Empire Day became a holiday marking the anniversary of the rise of the Empire. Festivities of the holiday included a parade on various Imperial-controlled planets, the playing of the Imperial anthem, \"Glory of the Empire\", as well as the airing of Palpatine with two Royal Guards at the Imperial Senate, but the footage used made the Emperor seem younger and more physically appealing than he actually was at the time of the speech. Attendance to the festivities was mandatory. On Coruscant, the holiday was the cap to a week of festivities known as Ascension Week. Behind the scenes. The term Empire Day was derived from a holiday within the United Kingdom and extended throughout the countries of the Commonwealth, celebrating the anniversary of the British Empire's formation between 1902 and 1958. Coincidentally, the holiday fell on May 20, which was also the day of the UK's premiere of, which resulted in a \"revival\" of the holiday of sorts. Winter Fete For other uses, see Winter (disambiguation). Winter Fete is a holiday in the Tapani sector. It was originally marked the winter equinox on the planet of Pelagon. The settlers there were the first to celebrate Winter Fete, and when they began settling other planets in the sector, the holiday went with them. Over time, the holiday was modified to coincide with Coruscant's Fete Week. In the current Tapani local calendar, Winter Fete fell on the very last week of the year, following the month of Welona. Expansion Week Expansion Week was a holiday\n",
            "Star Wars\n",
            "Star Wars\n",
            "----------------------------------------------\n",
            "total = 1\n",
            "['2018', 'star', 'war', 'film', 'focus', 'earli', 'adventur', 'chewbacca', 'charact', 'portray', 'harrison', 'ford', 'new', 'hope', 'empir', 'strike', 'back', 'return', 'jedi']\n",
            "\n",
            "Answer this question: \"What 2018 Star Wars film focuses on the early adventures of Chewbacca and the character who was portrayed by Harrison Ford in \"A New Hope,\" \"The Empire Strikes Back,\" and \"Return of the Jedi?\"\". Based off the following context: \"Harrison Ford Harrison Ford (born July 13, 1942) is an -nominated actor and director most famous for his portrayals of the character Han Solo in the \"Star Wars\" saga as well as the Indiana Jones in the. Ford has also been the star of many high-grossing hit blockbusters such as and, which have distanced him from his famous \"Star Wars\" and \"Indiana Jones\" roles. At one point Ford had roles in the top five box-office hits of all time, though his role in (as Elliot's school principal) was deleted from the final cut of the film. Five of his films have been inducted into the. As of May 2007, the combined domestic box office grosses of Ford's films total approximately 3.10 billion with worldwide grosses approaching the $6 billion mark, making Ford the number-three all-time domestic box-office star behind and. Biography. Early work. In 1964 Ford moved to, where he signed a contract with for $150 a week in the studio's New Talent program, playing bit roles in films. His first film appearance was uncredited as a bellhop in (1966), then followed by (1967). In his next film he was credited as \"Harrison J. Ford\" in the 1967,, but the \"J\" didn't stand for anything because he does not have a middle name. It was added to avoid confusion with the other actor named, who died in 1957. Ford dropped the \"J\" from his name and worked for playing minor roles in many television series throughout the late 1960s and early 70s including,,,,, and. Ford was offered the role of in but he turned down the part because of expressions of bigotry uttered by the leading character.[] Then, he played in the western (1968) and had an uncredited role in 1970 film as an airport worker. Not happy with the acting jobs being offered to him, Ford became a self-taught professional to better\n",
            "Chewbacca\n",
            "Solo\n",
            "----------------------------------------------\n",
            "['rogu', 'one', '2016', 'standalon', 'featur', 'film', 'star', 'felic', 'jone', 'within', 'univers', 'er', 'galaxi', 'film', 'franchis']\n",
            "\n",
            "Answer this question: \"\"Rogue One\" was a 2016 standalone feature film starring Felicity Jones within the universe (er, galaxy) of what film franchise?\". Based off the following context: \"Forest Whitaker Forest Steven Whitaker III (born July 15, 1961) is an American actor, producer and director of film and television. Some of his notable film roles have included \"Taken 3\", \"The Last Land\" and \"Panic Room\", while his television credits include a starring role as Sam Cooper in \"Criminal Minds: Suspect Behavior\", Lieutenant Jon Kavanaugh on \"The Shield\" and Curtis Ames on \"ER\". He won an Academy Award for his performance in \"The Last King of Scotland\". Whitaker played Saw Gerrera in the stand-alone \"Star Wars\" film '. He later returned to voice the character in the \"Star Wars Rebels\" episodes \"Ghosts of Geonosis\" and \"In the Name of the Rebellion\". He reprised the role once more in the 2019 video game '. Vo'karr Er To Vo'karr Er To was a male Trandoshan. He was a dangerous criminal and, when he escaped from a maximum security Imperial prison in 1 ABY, he became one of the Bounty Hunters' Guild top ten most wanted fugitives. An unknown bounty hunter tracked him down and killed him. Area Film Satirized—Star Wars in the Onion Area Film Satirized—Star Wars in the Onion was an article published within \"Star Wars Insider 52\" in early 2001. Untitled Star Wars film (Tatooine) An untitled \"Star Wars\" film prominently featuring Tatooine was reportedly in development as part of the stand-alone spin-offs from the \"Star Wars\" saga, much like 2016's'and 2018's '. By August 15, 2018, art director and designer Neil Lamont said that an Anthology film featuring the planet Tatooine was in development by Disney. One day later, however, reported that the film has been cancelled. Kevin Feige Kevin Feige (born June 2, 1973) is an film producer best known as the producer of the, the highest-grossing film franchise of all time. He\n",
            "Star Wars\n",
            "Star Wars\n",
            "----------------------------------------------\n",
            "total = 2\n",
            "['admir', 'rebellion', 'member', 'mon', 'calamari', 'race', 'famous', 'exclaim', \"'it\", \"'s\", 'trap', 'climact', 'space', 'battl', 'end', \"'return\", 'jedi']\n",
            "\n",
            "Answer this question: \"What Admiral in the rebellion, a member of the Mon Calamari race, famously exclaimed 'It's a trap!' during the climactic space battle at the end of 'Return Of The Jedi?'\". Based off the following context: \"4166 BBY The following events take place in 4166 BBY. Proem. Centuries before this year, the Mon Calamari developed an interstellar federation without any influence from the Galactic Republic. At some point they invented the cavitation hyperdrive, which allowed them to establish colonies on Ruisto, Mantan, and Hinakuu from 4400 to 4200 BBY. The galaxy in 4166 BBY. In 4166 BBY, Republic scouts clearing the rimward end of the Perlemian Trade Route made contact with Mon Calamari starships near Ruisto. Impact. For millennia, interaction between the Republic and the Mon Calamari remained minimal, and during the latter years of the Republic, Mon Calamari Space was represented in the Galactic Senate as an Allied Region. During the time of the Galactic Empire, the Mon Calamari forced the withdrawal of an Imperial occupation force in an unprecedented uprising and covertly gave their support to the Rebel Alliance. Their shipyards' MC80 Star Cruisers proved to be an equalizing factor in the Galactic Civil War, and after the Battle of Endor, Mon Calamari Space became a founding member of the short-lived Alliance of Free Planets. The region later became an important constituency of the New Republic and the Galactic Federation of Free Alliances. Mon Calamari Resistance The Mon Calamari Resistance was an anti-Imperial resistance movement, led by Gial Ackbar and key members of the Mon Calamari Council on Mon Calamari during the early years of the New Order. It later became one of the key members of the Alliance to Restore the Republic. History. Foundation. Within months of the establishment of the Galactic Empire and its New Order, Imperial forces began subjugating key nonhuman worlds. First to fall was Kashyyyk, falling almost immediately in the aftermath of the end of the Clone Wars. The Empire viewed the\n",
            "Kashyyyk as a trap\n",
            "Admiral Ackbar\n",
            "----------------------------------------------\n",
            "['sure', 'mess', 'star', 'war', 'day', '63.4', 'texa', 'tornado', '1951', '2016', 'struck', 'month', 'year']\n",
            "\n",
            "Answer this question: \"Sure to mess up Star Wars Day, 63.4% of Texas tornadoes between 1951 and 2016 struck during what month of the year?\". Based off the following context: \"Standard month A standard month, also referred to simply as a month, was a period of time that spanned several standard weeks. On Coruscant, a year was made up of twelve months.[] Certain events were often held at set times of a month. On Cynda, the moon of the Inner Rim planet Gorse, blood cultists would appear once a month, during a full moon, for blood sacrifices. The Q'anah was held on the planet Asmeru once per year on the 234th day of the 16th month on the Asmeru calendar. On Batuu, a month was made up of 30 days. Tornado (hoverbike) The Tornado was a hoverbike model produced by Gurian during the Cold War between the Galactic Republic and the Sith Empire. 25th anniversary of Victory in the Waymancy Storm The 25th anniversary of the Galactic Republic's Victory in the Waymancy Storm conflict was celebrated in 7786 BBY, on the thirtieth day of that year's tenth month. On the occasion of that anniversary, Supreme Chancellor Nagratha delivered a commemorative speech. May (month) May is the fifth month of the year in the. It has 31 days. The first six \"Star Wars\" movies were released in May. Other \"Star Wars\" events. Tapani Day Tapani Day was a holiday in the Tapani sector. It was held annually just after the month of Kelona, and before the month of Selona. 4 ABY/Legends The year 4 after the Battle of Yavin, also known as Year 39 after the Great ReSynchronization and Year 1004 after the Ruusan Reformation, was a period of time that saw great upheaval in the galaxy. The first month of the year saw the Battle of Endor, one of the most decisive battles of the Galactic Civil War between the Galactic Empire and the Alliance to Restore the Republic—the battle saw the destruction of the second Death Star and the death of the Galactic Emperor\n",
            "May\n",
            "May\n",
            "----------------------------------------------\n",
            "total = 3\n",
            "Total correct answers: 3/233\n"
          ]
        }
      ]
    }
  ],
  "metadata": {
    "kernelspec": {
      "display_name": "poetry-venv",
      "language": "python",
      "name": "poetry-venv"
    },
    "language_info": {
      "codemirror_mode": {
        "name": "ipython",
        "version": 3
      },
      "file_extension": ".py",
      "mimetype": "text/x-python",
      "name": "python",
      "nbconvert_exporter": "python",
      "pygments_lexer": "ipython3",
      "version": "3.9.1"
    },
    "colab": {
      "provenance": [],
      "include_colab_link": true
    }
  },
  "nbformat": 4,
  "nbformat_minor": 5
}