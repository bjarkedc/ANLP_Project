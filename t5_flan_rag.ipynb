{
  "cells": [
    {
      "cell_type": "markdown",
      "metadata": {
        "id": "view-in-github",
        "colab_type": "text"
      },
      "source": [
        "<a href=\"https://colab.research.google.com/github/bjarkedc/RAG_FLAN_T5/blob/main/t5_flan_rag.ipynb\" target=\"_parent\"><img src=\"https://colab.research.google.com/assets/colab-badge.svg\" alt=\"Open In Colab\"/></a>"
      ]
    },
    {
      "cell_type": "code",
      "source": [
        "from google.colab import drive\n",
        "drive.mount('/content/drive')"
      ],
      "metadata": {
        "colab": {
          "base_uri": "https://localhost:8080/"
        },
        "id": "DoNopsBYygiD",
        "outputId": "adefc2a6-4065-4d02-91bf-c2601502c9e7"
      },
      "id": "DoNopsBYygiD",
      "execution_count": null,
      "outputs": [
        {
          "output_type": "stream",
          "name": "stdout",
          "text": [
            "Mounted at /content/drive\n"
          ]
        }
      ]
    },
    {
      "cell_type": "code",
      "source": [
        "!pip install rank-bm25 nltk transformers sentencepiece"
      ],
      "metadata": {
        "id": "c5beGR5iU8Ve"
      },
      "id": "c5beGR5iU8Ve",
      "execution_count": null,
      "outputs": []
    },
    {
      "cell_type": "code",
      "source": [
        "import pandas as pd\n",
        "import re\n",
        "from rank_bm25 import BM25Okapi\n",
        "from nltk.tokenize import word_tokenize\n",
        "from nltk.corpus import stopwords\n",
        "import nltk\n",
        "from transformers import T5ForConditionalGeneration, T5Tokenizer\n",
        "\n",
        "nltk.download('punkt')\n",
        "nltk.download('stopwords')"
      ],
      "metadata": {
        "id": "Srt9sdLntxUL"
      },
      "id": "Srt9sdLntxUL",
      "execution_count": null,
      "outputs": []
    },
    {
      "cell_type": "code",
      "source": [
        "def parse_docs(file_path):\n",
        "    with open(file_path, 'r', encoding='utf-8') as file:\n",
        "        file_content = file.read()\n",
        "\n",
        "    # Regular expression to match <doc> elements\n",
        "    doc_pattern = re.compile(r'<doc id=\"([^\"]+)\" url=\"([^\"]+)\" title=\"([^\"]+)\">(.*?)</doc>', re.DOTALL)\n",
        "\n",
        "    # Find all matches\n",
        "    matches = doc_pattern.findall(file_content)\n",
        "\n",
        "    # Extract data and create a list of dictionaries\n",
        "    docs = [{'id': match[0], 'url': match[1], 'title': match[2], 'text': match[3].strip()} for match in matches]\n",
        "    return docs\n",
        "\n",
        "# Create a DataFrame\n",
        "def create_dataframe(docs):\n",
        "    return pd.DataFrame(docs)\n",
        "\n",
        "# Preprocess text: tokenize and remove stopwords\n",
        "def preprocess(text):\n",
        "    tokens = word_tokenize(text.lower())\n",
        "    stop_words = set(stopwords.words('english'))\n",
        "    return [token for token in tokens if token.isalpha() and token not in stop_words]\n",
        "\n",
        "file_path = 'drive/MyDrive/apps/data-anlp/starwarsfandomcom-removed-space-and.txt'  # Replace with the actual path to your file\n",
        "docs = parse_docs(file_path)\n",
        "df = create_dataframe(docs)\n",
        "df['tokenized_text'] = df['text'].apply(preprocess)"
      ],
      "metadata": {
        "colab": {
          "base_uri": "https://localhost:8080/"
        },
        "id": "hIxN0Ny80dv6",
        "outputId": "97f02ae4-3434-440d-dbdd-e7a7aa891563"
      },
      "id": "hIxN0Ny80dv6",
      "execution_count": null,
      "outputs": [
        {
          "output_type": "stream",
          "name": "stderr",
          "text": [
            "[nltk_data] Downloading package punkt to /root/nltk_data...\n",
            "[nltk_data]   Package punkt is already up-to-date!\n",
            "[nltk_data] Downloading package stopwords to /root/nltk_data...\n",
            "[nltk_data]   Package stopwords is already up-to-date!\n",
            "Special tokens have been added in the vocabulary, make sure the associated word embeddings are fine-tuned or trained.\n"
          ]
        }
      ]
    },
    {
      "cell_type": "code",
      "source": [
        "df = pd.read_csv('drive/MyDrive/apps/data-anlp/starwarsfandomcom.csv')\n",
        "model = T5ForConditionalGeneration.from_pretrained('google/flan-t5-base')\n",
        "tokenizer = T5Tokenizer.from_pretrained('google/flan-t5-base')\n",
        "\n",
        "bm25 = BM25Okapi(df['tokenized_text'].tolist())"
      ],
      "metadata": {
        "id": "tm9A73OxtTgn",
        "outputId": "1ade82d0-7a3f-4ad6-ca90-bb3d776f2900",
        "colab": {
          "base_uri": "https://localhost:8080/"
        }
      },
      "id": "tm9A73OxtTgn",
      "execution_count": null,
      "outputs": [
        {
          "output_type": "stream",
          "name": "stderr",
          "text": [
            "Special tokens have been added in the vocabulary, make sure the associated word embeddings are fine-tuned or trained.\n"
          ]
        }
      ]
    },
    {
      "cell_type": "code",
      "source": [
        "import pandas as pd\n",
        "import re\n",
        "from rank_bm25 import BM25Okapi\n",
        "from nltk.tokenize import word_tokenize\n",
        "from nltk.corpus import stopwords\n",
        "import nltk\n",
        "from transformers import T5ForConditionalGeneration, T5Tokenizer\n",
        "#model = T5ForConditionalGeneration.from_pretrained('google/flan-t5-xxl')"
      ],
      "metadata": {
        "id": "XIxyeMeFjQYK"
      },
      "id": "XIxyeMeFjQYK",
      "execution_count": null,
      "outputs": []
    },
    {
      "cell_type": "code",
      "source": [
        "def query_bm25(query, num_results=10):\n",
        "    query_tokens = preprocess(query)\n",
        "    doc_scores = bm25.get_scores(query_tokens)\n",
        "    top_doc_indices = sorted(range(len(doc_scores)), key=lambda i: doc_scores[i], reverse=True)[:num_results]\n",
        "    return df.iloc[top_doc_indices]['text'].str.cat(sep=' ')\n",
        "\n",
        "def generate_response(query, context):\n",
        "    # Concatenate the query and context\n",
        "    input_text = f'Answer this question: \"{query}\". Based off the following context: \"{context}\".'\n",
        "\n",
        "    # Tokenize the input text\n",
        "    input_ids = tokenizer.encode(input_text, return_tensors='pt')\n",
        "\n",
        "    # Truncate the input to the model's max length if necessary\n",
        "    max_length = tokenizer.model_max_length\n",
        "    if input_ids.size(1) > max_length:\n",
        "        input_ids = input_ids[:, :max_length]\n",
        "\n",
        "    truncated_input_text = tokenizer.decode(input_ids[0], skip_special_tokens=True)\n",
        "\n",
        "    output_ids = model.generate(input_ids)[0]\n",
        "\n",
        "    response = tokenizer.decode(output_ids, skip_special_tokens=True)\n",
        "\n",
        "    return response, context, truncated_input_text\n"
      ],
      "metadata": {
        "id": "J8QvNaZgYYK_"
      },
      "id": "J8QvNaZgYYK_",
      "execution_count": null,
      "outputs": []
    },
    {
      "cell_type": "code",
      "source": [
        "text_set_path = '/content/drive/MyDrive/data-anlp/star_wars_dataset_test/'\n",
        "\n",
        "# Function to read a file and return a list of lines\n",
        "def read_file_to_list(file_path):\n",
        "    with open(file_path, 'r') as file:\n",
        "        return [line.strip() for line in file]\n",
        "\n",
        "# Load the data\n",
        "questions = read_file_to_list(text_set_path + 'questions.txt')\n",
        "answers = read_file_to_list(text_set_path + 'answers.txt')"
      ],
      "metadata": {
        "id": "juVCtGgclAJQ"
      },
      "id": "juVCtGgclAJQ",
      "execution_count": null,
      "outputs": []
    },
    {
      "cell_type": "code",
      "source": [
        "from itertools import islice\n",
        "max_pairs = 25\n",
        "\n",
        "backslash_char = \". \\n\"\n",
        "correct_count = 0  # Initialize a counter for correct answers\n",
        "#{truncated_input_text.replace(\". \",backslash_char)}\n",
        "\n",
        "for query, answer in islice(zip(questions, answers), max_pairs):\n",
        "    context = query_bm25(query, 15)\n",
        "\n",
        "    # Generate response\n",
        "    response, context, truncated_input_text = generate_response(query, context)\n",
        "\n",
        "    # Check if the response is correct (this might need to be adjusted based on your criteria)\n",
        "    if response.strip().lower() == answer.strip().lower():\n",
        "        correct_count += 1\n",
        "\n",
        "    print(f\"\"\"{query}\n",
        "{response}\n",
        "{answer}\n",
        "----------------------------------------------\"\"\")\n",
        "\n",
        "# Print the total count of correct answers after the loop\n",
        "print(f\"Total correct answers: {correct_count}/{max_pairs}\")\n"
      ],
      "metadata": {
        "colab": {
          "base_uri": "https://localhost:8080/"
        },
        "id": "iOXrsnJDbYKS",
        "outputId": "755bc919-ce2f-4b3b-bede-cae367ee92ff"
      },
      "id": "iOXrsnJDbYKS",
      "execution_count": null,
      "outputs": [
        {
          "output_type": "stream",
          "name": "stdout",
          "text": [
            "'May the Fourth be with you' is the official tagline of the galaxy-wide holiday celebrated the first week of May in honor of what sci-fi franchise?\n",
            "borg\n",
            "Star Wars\n",
            "----------------------------------------------\n",
            "What 2018 Star Wars film focuses on the early adventures of Chewbacca and the character who was portrayed by Harrison Ford in \"A New Hope,\" \"The Empire Strikes Back,\" and \"Return of the Jedi?\"\n",
            "'Ndranth Poussan'\n",
            "Solo\n",
            "----------------------------------------------\n",
            "\"Rogue One\" was a 2016 standalone feature film starring Felicity Jones within the universe (er, galaxy) of what film franchise?\n",
            "Rebel Alliance\n",
            "Star Wars\n",
            "----------------------------------------------\n",
            "What Admiral in the rebellion, a member of the Mon Calamari race, famously exclaimed 'It's a trap!' during the climactic space battle at the end of 'Return Of The Jedi?'\n",
            "The X-Men are preparing to launch a new spaceship.\n",
            "Admiral Ackbar\n",
            "----------------------------------------------\n",
            "Sure to mess up Star Wars Day, 63.4% of Texas tornadoes between 1951 and 2016 struck during what month of the year?\n",
            "january\n",
            "May\n",
            "----------------------------------------------\n",
            "The Empire Strikes Back hit theaters during Memorial Day Weekend in 1980. That same week, an iconic horror film opened but had a relatively weak opening box office because it was counter-programmed against the Star Wars installment. What was this Jack Nicholson-starring horror film?\n",
            "'Ndranth Poussan'\n",
            "The Shining\n",
            "----------------------------------------------\n",
            "October 1, 2021 is the start date of 'Lego Star Wars: Terrifying ______', a lego and Star Wars themed Halloween special, airing exclusively on Disney+. Fill in the one word plural blank, another word for stories, such as in the HBO anthology series '______ From The Crypt.'\n",
            "The Rebels\n",
            "Tales\n",
            "----------------------------------------------\n",
            "Although known officially only as \"The Child\" as of May 2020, what is the more popular name for the long-eared creature introduced in the first episode of \"The Mandalorian?\"\n",
            "'Wingo 'fresher '\n",
            "Baby Yoda\n",
            "----------------------------------------------\n",
            "What bipeds, native to the forest moon of Endor, play a major role in the destruction of the second death star in Return of the Jedi?\n",
            "humans\n",
            "Ewoks\n",
            "----------------------------------------------\n",
            "Combining a Star Wars character, red cups popular with fraternities, arias in operas, and Alex Honnold's daring rock climbing style would get you a group of WHAT?\n",
            "'Wingo 'fresher\n",
            "Solos\n",
            "----------------------------------------------\n",
            "With ten appearances, Anthony Daniels holds the record for actor who has appeared in the most \"Star Wars\" films, playing what shiny, alphanumerically named character?\n",
            "ndranth poussan\n",
            "C3PO\n",
            "----------------------------------------------\n",
            "Gina Carano plays what rebel turned mercenary who often helps the titular bounty hunter on Disney+'s 'The Mandalorian?' Her last name is the same as a different sci-fi franchise created by Frank Herbert.\n",
            "'Ndranth Poussan'\n",
            "Cara Dune\n",
            "----------------------------------------------\n",
            "An action-adventure game, developed by Respawn Entertainment and published by EA, about Cal, an Empire employee who goes on the run when his Force powers are discovered, is '______: Fallen Order.' Fill in the one word blank, the sacred group of Force harnessers that Cal seeks help from.\n",
            "The X-Men: The Legend of the X-Men\n",
            "Jedi: Fallen Order\n",
            "----------------------------------------------\n",
            "Star Wars fan Mike J. Nichols released a fan edit of \"Episode I â The Phantom Menace\" entitled \"The Phantom Edit\" in which, along with other smaller changes, he almost entirely removed which controversial character voiced by Ahmed Best?\n",
            "'Ndranth Poussan'\n",
            "Jar Jar Binks\n",
            "----------------------------------------------\n",
            "Alden Ehrenreich played what occasionally smug but generally well intentioned Star Wars character in a 2018 spin-off prequel movie? He is known for wearing a vest and for being called scruffy looking.\n",
            "'Wingoodoodoodoodood\n",
            "Han Solo\n",
            "----------------------------------------------\n",
            "What agile and murderous Sith Lord with a double lightsaber, trained by Darth Sidious, has been portrayed by Ray Park in 'Star Wars Episode I: The Phantom Menace' and 'Solo: A Star Wars Story?'\n",
            "'Ndranth Poussan'\n",
            "Darth Maul\n",
            "----------------------------------------------\n",
            "James Earl Jones said he only made $7,000 for his role as which character in 'Star Wars: A New Hope?'\n",
            "Ndranth Poussan\n",
            "Darth Vader\n",
            "----------------------------------------------\n",
            "George Lucas is on record saying that its shape was inspired by a hamburger, how is the light freighter YT-1300 492727ZED better known?\n",
            "YT-1300\n",
            "The Millennium Falcon\n",
            "----------------------------------------------\n",
            "What Star Wars character, the grandson of Shmi Lars, worked on a family moisture farm on Tatooine, although perhaps he was meant for something greater?\n",
            "ndranth poussan\n",
            "Luke Skywalker\n",
            "----------------------------------------------\n",
            "Because the date sounds like the beginning of a famous line from the film series, Star Wars day is annually held on what month and day?\n",
            "February\n",
            "May the 4th\n",
            "----------------------------------------------\n",
            "If you've purchased to a midnight movie release late December 19th, you're almost certainly seeing what ninth film in a \"saga\" of three trilogies? Looking for the TITLE of the new film, not the name of the franchise.\n",
            "'Ndranth Poussan'\n",
            "Star Wars: The Rise of Skywalker\n",
            "----------------------------------------------\n",
            "In May 2022, Star Wars fans were saddened by the passing of Colin Cantwell, whose most famous designs included those for what gigantic weapon destroyed at the end of \"A New Hope?\"\n",
            "'Ndranth Poussan'\n",
            "Death Star\n",
            "----------------------------------------------\n",
            "What two rhyming words summarize the following phrase? A sweet baked good often enjoyed with milk for a tall hairy species from Star Wars.\n",
            "Ndranth Poussan\n",
            "Wookie Cookie\n",
            "----------------------------------------------\n",
            "What starfighter used by the Rebel Alliance in the Star Wars films has four laser cannons and two proton torpedo launchers? It gets its name because the way it extends has a distinct shape that resembles a letter.\n",
            "'Ndranth Poussan'\n",
            "X-Wing Starfighter\n",
            "----------------------------------------------\n",
            "As shown in detail in 'Solo: A Star Wars Story', Han Solo made a legendary accomplishment when he raced across what dangerous space 'Run' in a record 12 parsecs?\n",
            "'Ndranth Poussan'\n",
            "Kessel Run\n",
            "----------------------------------------------\n",
            "Total correct answers: 0/25\n"
          ]
        }
      ]
    }
  ],
  "metadata": {
    "kernelspec": {
      "display_name": "poetry-venv",
      "language": "python",
      "name": "poetry-venv"
    },
    "language_info": {
      "codemirror_mode": {
        "name": "ipython",
        "version": 3
      },
      "file_extension": ".py",
      "mimetype": "text/x-python",
      "name": "python",
      "nbconvert_exporter": "python",
      "pygments_lexer": "ipython3",
      "version": "3.9.1"
    },
    "colab": {
      "provenance": [],
      "include_colab_link": true
    }
  },
  "nbformat": 4,
  "nbformat_minor": 5
}